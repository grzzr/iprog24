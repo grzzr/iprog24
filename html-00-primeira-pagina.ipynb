{
 "cells": [
  {
   "cell_type": "markdown",
   "metadata": {},
   "source": [
    "# HTML - Primeira página\n",
    "\n",
    "```html\n",
    "<!DOCTYPE html>\n",
    "<html>\n",
    "    <head>\n",
    "        <title>Site do maguinho</title>\n",
    "    </head>\n",
    "    <body>\n",
    "        <center>\n",
    "            <h1>Oi, eu sou o Maguinho</h1>\n",
    "            <img src=\"img/mago-64px.png\">\n",
    "        </center>\n",
    "    </body>\n",
    "</html>\n",
    "```"
   ]
  },
  {
   "cell_type": "markdown",
   "metadata": {},
   "source": [
    "<!DOCTYPE html>\n",
    "<html>\n",
    "    <head>\n",
    "        <title>Site do maguinho</title>\n",
    "    </head>\n",
    "    <body>\n",
    "        <center>\n",
    "            <h1>Oi, eu sou o Maguinho</h1>\n",
    "            <img src=\"img/mago-64px.png\">            \n",
    "        </center>\n",
    "    </body>\n",
    "</html>"
   ]
  },
  {
   "cell_type": "markdown",
   "metadata": {},
   "source": [
    "- Clique acima e tecle `<enter>` para editar o código `html` da página e modificá-la.\n",
    "- Coloque uma nova imagem acrescentando mais uma tag `<img>` - você pode usar o arquivo `img/robof-64px.png`\n",
    "- Tecle `ctrl+enter` para ver como página ficou"
   ]
  }
 ],
 "metadata": {
  "language_info": {
   "name": "python"
  }
 },
 "nbformat": 4,
 "nbformat_minor": 2
}
